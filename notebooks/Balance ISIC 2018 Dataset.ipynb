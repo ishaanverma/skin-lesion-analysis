{
 "cells": [
  {
   "cell_type": "code",
   "execution_count": 2,
   "metadata": {},
   "outputs": [
    {
     "name": "stderr",
     "output_type": "stream",
     "text": [
      "Using TensorFlow backend.\n"
     ]
    }
   ],
   "source": [
    "import os\n",
    "import numpy as np\n",
    "import matplotlib.pyplot as plt\n",
    "import pandas as pd\n",
    "import keras\n",
    "import cv2"
   ]
  },
  {
   "cell_type": "code",
   "execution_count": 3,
   "metadata": {},
   "outputs": [],
   "source": [
    "drive_base_path = \"../\"\n",
    "path_to_images = drive_base_path + \"dataset/ISIC2018_Training_Input/\"\n",
    "path_to_image_aug = drive_base_path + \"dataset/ISIC2018_VGG16_Training_AUG/\"\n",
    "path_to_description = drive_base_path + \"dataset/ISIC2018_Training_GroundTruth/ISIC2018_Task3_Training_GroundTruth.csv\"\n",
    "\n",
    "path_to_balanced_description = drive_base_path + \"dataset/ISIC2018_Balanced_Training_GroundTruth.csv\"\n",
    "path_to_balanced_images = drive_base_path + \"dataset/ISIC2018_Balanced_Training_Input/\"\n",
    "path_to_mel = \"mel/\"\n",
    "path_to_nv = \"nv/\"\n",
    "path_to_bcc = \"bcc/\"\n",
    "path_to_akiec = \"akiec/\"\n",
    "path_to_bkl = \"bkl/\"\n",
    "path_to_df = \"df/\"\n",
    "path_to_vasc = \"vasc/\""
   ]
  },
  {
   "cell_type": "code",
   "execution_count": 4,
   "metadata": {},
   "outputs": [
    {
     "data": {
      "text/plain": [
       "'ISIC_0033177'"
      ]
     },
     "execution_count": 4,
     "metadata": {},
     "output_type": "execute_result"
    }
   ],
   "source": [
    "directory_images = os.listdir(path_to_images)\n",
    "image_file = directory_images[100]\n",
    "image_file[:-4]"
   ]
  },
  {
   "cell_type": "code",
   "execution_count": 5,
   "metadata": {},
   "outputs": [
    {
     "data": {
      "text/html": [
       "<div>\n",
       "<style scoped>\n",
       "    .dataframe tbody tr th:only-of-type {\n",
       "        vertical-align: middle;\n",
       "    }\n",
       "\n",
       "    .dataframe tbody tr th {\n",
       "        vertical-align: top;\n",
       "    }\n",
       "\n",
       "    .dataframe thead th {\n",
       "        text-align: right;\n",
       "    }\n",
       "</style>\n",
       "<table border=\"1\" class=\"dataframe\">\n",
       "  <thead>\n",
       "    <tr style=\"text-align: right;\">\n",
       "      <th></th>\n",
       "      <th>MEL</th>\n",
       "      <th>NV</th>\n",
       "      <th>BCC</th>\n",
       "      <th>AKIEC</th>\n",
       "      <th>BKL</th>\n",
       "      <th>DF</th>\n",
       "      <th>VASC</th>\n",
       "    </tr>\n",
       "    <tr>\n",
       "      <th>image</th>\n",
       "      <th></th>\n",
       "      <th></th>\n",
       "      <th></th>\n",
       "      <th></th>\n",
       "      <th></th>\n",
       "      <th></th>\n",
       "      <th></th>\n",
       "    </tr>\n",
       "  </thead>\n",
       "  <tbody>\n",
       "    <tr>\n",
       "      <th>ISIC_0024306</th>\n",
       "      <td>0.0</td>\n",
       "      <td>1.0</td>\n",
       "      <td>0.0</td>\n",
       "      <td>0.0</td>\n",
       "      <td>0.0</td>\n",
       "      <td>0.0</td>\n",
       "      <td>0.0</td>\n",
       "    </tr>\n",
       "  </tbody>\n",
       "</table>\n",
       "</div>"
      ],
      "text/plain": [
       "              MEL   NV  BCC  AKIEC  BKL   DF  VASC\n",
       "image                                             \n",
       "ISIC_0024306  0.0  1.0  0.0    0.0  0.0  0.0   0.0"
      ]
     },
     "execution_count": 5,
     "metadata": {},
     "output_type": "execute_result"
    }
   ],
   "source": [
    "df = pd.read_csv(\"../dataset/ISIC2018_Training_GroundTruth/ISIC2018_Task3_Training_GroundTruth.csv\", index_col=\"image\")\n",
    "df[:1]"
   ]
  },
  {
   "cell_type": "code",
   "execution_count": 6,
   "metadata": {},
   "outputs": [
    {
     "name": "stdout",
     "output_type": "stream",
     "text": [
      "Mel 1113\n",
      "NV 6705\n",
      "BCC 514\n",
      "AKIEC 327\n",
      "BKL 1099\n",
      "DF 115\n",
      "VASC 142\n"
     ]
    }
   ],
   "source": [
    "mel = df.index[df['MEL'] == 1.0].tolist()\n",
    "nv = df.index[df['NV'] == 1.0].tolist()\n",
    "bcc = df.index[df['BCC'] == 1.0].tolist()\n",
    "akiec = df.index[df['AKIEC'] == 1.0].tolist()\n",
    "bkl = df.index[df['BKL'] == 1.0].tolist()\n",
    "dff = df.index[df['DF'] == 1.0].tolist()\n",
    "vasc = df.index[df['VASC'] == 1.0].tolist()\n",
    "\n",
    "print(\"Mel\", len(mel))\n",
    "print(\"NV\", len(nv))\n",
    "print(\"BCC\", len(bcc))\n",
    "print(\"AKIEC\", len(akiec))\n",
    "print(\"BKL\", len(bkl))\n",
    "print(\"DF\", len(dff))\n",
    "print(\"VASC\", len(vasc))"
   ]
  },
  {
   "cell_type": "code",
   "execution_count": 10,
   "metadata": {},
   "outputs": [],
   "source": [
    "for filename in mel:\n",
    "    filename = filename + '.jpg'\n",
    "    img = cv2.imread(path_to_images + filename)\n",
    "    img = cv2.cvtColor(img, cv2.COLOR_BGR2RGB)\n",
    "    cv2.imwrite(path_to_balanced_images + path_to_mel + filename, img, [int(cv2.IMWRITE_JPEG_QUALITY), 100])"
   ]
  },
  {
   "cell_type": "code",
   "execution_count": 24,
   "metadata": {},
   "outputs": [],
   "source": [
    "for filename in nv:\n",
    "    filename = filename + '.jpg'\n",
    "    img = cv2.imread(path_to_images + filename)\n",
    "    img = cv2.cvtColor(img, cv2.COLOR_BGR2RGB)\n",
    "    cv2.imwrite(path_to_balanced_images + path_to_nv + filename, img, [int(cv2.IMWRITE_JPEG_QUALITY), 100])"
   ]
  },
  {
   "cell_type": "code",
   "execution_count": 19,
   "metadata": {},
   "outputs": [],
   "source": [
    "for filename in bcc:\n",
    "    filename = filename + '.jpg'\n",
    "    img = cv2.imread(path_to_images + filename)\n",
    "    img = cv2.cvtColor(img, cv2.COLOR_BGR2RGB)\n",
    "    cv2.imwrite(path_to_balanced_images + path_to_bcc + filename, img, [int(cv2.IMWRITE_JPEG_QUALITY), 100])"
   ]
  },
  {
   "cell_type": "code",
   "execution_count": 13,
   "metadata": {},
   "outputs": [],
   "source": [
    "for filename in akiec:\n",
    "    filename = filename + '.jpg'\n",
    "    img = cv2.imread(path_to_images + filename)\n",
    "    img = cv2.cvtColor(img, cv2.COLOR_BGR2RGB)\n",
    "    cv2.imwrite(path_to_balanced_images + path_to_akiec + filename, img, [int(cv2.IMWRITE_JPEG_QUALITY), 100])"
   ]
  },
  {
   "cell_type": "code",
   "execution_count": 9,
   "metadata": {},
   "outputs": [],
   "source": [
    "for filename in bkl:\n",
    "    filename = filename + '.jpg'\n",
    "    img = cv2.imread(path_to_images + filename)\n",
    "    img = cv2.cvtColor(img, cv2.COLOR_BGR2RGB)\n",
    "    cv2.imwrite(path_to_balanced_images + path_to_bkl + filename, img, [int(cv2.IMWRITE_JPEG_QUALITY), 100])"
   ]
  },
  {
   "cell_type": "code",
   "execution_count": 15,
   "metadata": {},
   "outputs": [],
   "source": [
    "for filename in dff:\n",
    "    filename = filename + '.jpg'\n",
    "    img = cv2.imread(path_to_images + filename)\n",
    "    img = cv2.cvtColor(img, cv2.COLOR_BGR2RGB)\n",
    "    cv2.imwrite(path_to_balanced_images + path_to_df + filename, img, [int(cv2.IMWRITE_JPEG_QUALITY), 100])"
   ]
  },
  {
   "cell_type": "code",
   "execution_count": 13,
   "metadata": {},
   "outputs": [],
   "source": [
    "for filename in vasc:\n",
    "    filename = filename + '.jpg'\n",
    "    img = cv2.imread(path_to_images + filename)\n",
    "    img = cv2.cvtColor(img, cv2.COLOR_BGR2RGB)\n",
    "    cv2.imwrite(path_to_balanced_images + path_to_vasc + filename, img, [int(cv2.IMWRITE_JPEG_QUALITY), 100])"
   ]
  },
  {
   "cell_type": "code",
   "execution_count": 21,
   "metadata": {},
   "outputs": [
    {
     "name": "stdout",
     "output_type": "stream",
     "text": [
      "Mel 1113\n",
      "NV 6705\n",
      "BCC 514\n",
      "AKIEC 327\n",
      "BKL 1099\n",
      "DF 115\n",
      "VASC 142\n"
     ]
    }
   ],
   "source": [
    "print(\"Mel\", len(os.listdir(path_to_balanced_images + path_to_mel)))\n",
    "print(\"NV\", len(os.listdir(path_to_balanced_images + path_to_nv)))\n",
    "print(\"BCC\", len(os.listdir(path_to_balanced_images + path_to_bcc)))\n",
    "print(\"AKIEC\", len(os.listdir(path_to_balanced_images + path_to_akiec)))\n",
    "print(\"BKL\", len(os.listdir(path_to_balanced_images + path_to_bkl)))\n",
    "print(\"DF\", len(os.listdir(path_to_balanced_images + path_to_df)))\n",
    "print(\"VASC\", len(os.listdir(path_to_balanced_images + path_to_vasc)))"
   ]
  },
  {
   "cell_type": "code",
   "execution_count": 21,
   "metadata": {},
   "outputs": [],
   "source": [
    "# flipping images\n",
    "import csv\n",
    "# path_to_mel, path_to_bcc, path_to_akiec, path_to_bkl, path_to_df, path_to_vasc\n",
    "image_directory = path_to_balanced_images + path_to_bcc\n",
    "list_images = os.listdir(image_directory)\n",
    "\n",
    "for i, filename in enumerate(list_images):\n",
    "    img  = cv2.imread(image_directory + filename)\n",
    "    \n",
    "    \n",
    "    if i % 2 == 0:\n",
    "        horizontal_file = filename[0:-4] + \"_1.jpg\"\n",
    "        horizontal_img = cv2.flip(img, 1)\n",
    "        cv2.imwrite(image_directory + horizontal_file, horizontal_img, [int(cv2.IMWRITE_JPEG_QUALITY), 100])\n",
    "    else:\n",
    "        vertical_file = filename[0:-4] + \"_2.jpg\"\n",
    "        vertical_img = cv2.flip(img, 0)\n",
    "        cv2.imwrite(image_directory + vertical_file, vertical_img, [int(cv2.IMWRITE_JPEG_QUALITY), 100])\n",
    "    \n",
    "#     both_file = filename[0:-4] + \"_3.jpg\"\n",
    "#     both_img = cv2.flip(img, -1)\n",
    "    \n",
    "#     cv2.imwrite(image_directory + both_file, both_img, [int(cv2.IMWRITE_JPEG_QUALITY), 100])\n",
    "    \n",
    "    file1 = open(path_to_balanced_description, \"r\")\n",
    "    file2 = open(path_to_balanced_description, \"a\")\n",
    "    \n",
    "    reader = csv.reader(file1)\n",
    "    writer = csv.writer(file2)\n",
    "    \n",
    "\n",
    "    for line in reader:\n",
    "        if line[0] == filename[0:-4]:\n",
    "            new_row = line[1:]\n",
    "            row1 = [horizontal_file[:-4]] + new_row\n",
    "            row2 = [vertical_file[:-4]] + new_row\n",
    "            \n",
    "#             row3 = [both_file[:-4]] + new_row\n",
    "            \n",
    "            if i % 2 == 0:\n",
    "                writer.writerow(row1)\n",
    "            else:\n",
    "                writer.writerow(row2)\n",
    "            \n",
    "#             writer.writerow(row3)\n",
    "        \n",
    "    file1.close()\n",
    "    file2.close()"
   ]
  },
  {
   "cell_type": "code",
   "execution_count": 17,
   "metadata": {},
   "outputs": [
    {
     "name": "stdout",
     "output_type": "stream",
     "text": [
      "DF 4600\n",
      "VASC 4402\n",
      "BKL 4396\n",
      "AKIEC 4251\n",
      "BCC 2056\n",
      "Mel 4452\n"
     ]
    }
   ],
   "source": [
    "print(\"DF\", len(os.listdir(path_to_balanced_images + path_to_df)))\n",
    "print(\"VASC\", len(os.listdir(path_to_balanced_images + path_to_vasc)))\n",
    "print(\"BKL\", len(os.listdir(path_to_balanced_images + path_to_bkl)))\n",
    "print(\"AKIEC\", len(os.listdir(path_to_balanced_images + path_to_akiec)))\n",
    "print(\"BCC\", len(os.listdir(path_to_balanced_images + path_to_bcc)))\n",
    "print(\"Mel\", len(os.listdir(path_to_balanced_images + path_to_mel)))"
   ]
  },
  {
   "cell_type": "code",
   "execution_count": null,
   "metadata": {},
   "outputs": [],
   "source": [
    "def create_train_test(path_to_images, path_to_description, test_split=0.0):\n",
    "    X_train = []\n",
    "    y_train = []\n",
    "    X_test = []\n",
    "    y_test = []\n",
    "    \n",
    "    input_size = 224\n",
    "    path_to_balanced_images = drive_base_path + \"dataset/ISIC2018_Balanced_Training_Input/\"\n",
    "    path_to_images = \n",
    "    list_of_images = os.listdir(path_to_images)\n",
    "    number = len(list_of_images)\n",
    "    \n",
    "    for filename in tqdm(list_of_images, total=number):\n",
    "        image = cv2.imread(path_to_images + filename)\n",
    "        image = cv2.cvtColor(image, cv2.COLOR_BGR2RGB)\n",
    "        old_size = image.shape[:2]\n",
    "        \n",
    "        ratio = float(input_size)/max(old_size)\n",
    "        new_size = tuple([int(x * ratio) for x in old_size])\n",
    "        \n",
    "        image = cv2.resize(image, (new_size[1], new_size[0]))\n",
    "        \n",
    "        delta_w = input_size - new_size[1]\n",
    "        delta_h = input_size - new_size[0]\n",
    "        top, bottom = delta_h//2, delta_h-(delta_h//2)\n",
    "        left, right = delta_w//2, delta_w-(delta_w//2)\n",
    "        \n",
    "        color = [0, 0, 0]\n",
    "        new_img = cv2.copyMakeBorder(image, top, bottom, left, right, \n",
    "                                     cv2.BORDER_CONSTANT, value=color)\n",
    "        \n",
    "        X_train.append(new_img)\n",
    "    \n",
    "        with open(path_to_description, \"r\") as file:\n",
    "            for line in file:\n",
    "                row = line.rstrip(\"\\n\").split(\",\")\n",
    "                if row[0] == filename[0:-4]:\n",
    "                    y_train.append([int(float(x)) for x in row[1:]])\n",
    "        \n",
    "    X_train = np.array(X_train)\n",
    "    y_train = np.array(y_train)\n",
    "    X_train, X_test, y_train, y_test = train_test_split(X_train, y_train, test_size=test_split, random_state=42)\n",
    "    return (X_train, X_test, y_train, y_test)"
   ]
  }
 ],
 "metadata": {
  "kernelspec": {
   "display_name": "Python 3",
   "language": "python",
   "name": "python3"
  },
  "language_info": {
   "codemirror_mode": {
    "name": "ipython",
    "version": 3
   },
   "file_extension": ".py",
   "mimetype": "text/x-python",
   "name": "python",
   "nbconvert_exporter": "python",
   "pygments_lexer": "ipython3",
   "version": "3.6.7"
  }
 },
 "nbformat": 4,
 "nbformat_minor": 2
}
