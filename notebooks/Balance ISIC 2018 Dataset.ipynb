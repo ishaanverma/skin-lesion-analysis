{
 "cells": [
  {
   "cell_type": "code",
   "execution_count": 102,
   "metadata": {},
   "outputs": [],
   "source": [
    "import os\n",
    "import numpy as np\n",
    "import matplotlib.pyplot as plt\n",
    "import pandas as pd\n",
    "import keras\n",
    "import cv2"
   ]
  },
  {
   "cell_type": "code",
   "execution_count": 103,
   "metadata": {},
   "outputs": [],
   "source": [
    "drive_base_path = \"../\"\n",
    "path_to_images = drive_base_path + \"dataset/ISIC2018_Training_Input/\"\n",
    "path_to_image_aug = drive_base_path + \"dataset/ISIC2018_VGG16_Training_AUG/\"\n",
    "path_to_description = drive_base_path + \"dataset/ISIC2018_Training_GroundTruth/ISIC2018_Task3_Training_GroundTruth.csv\"\n",
    "\n",
    "path_to_balanced_images = drive_base_path + \"dataset/ISIC2018_Balanced_Training_Input/\"\n",
    "path_to_mel = \"mel/\"\n",
    "path_to_nv = \"nv/\"\n",
    "path_to_bcc = \"bcc/\"\n",
    "path_to_akiec = \"akiec/\"\n",
    "path_to_bkl = \"bkl/\"\n",
    "path_to_df = \"df/\"\n",
    "path_to_vasc = \"vasc/\""
   ]
  },
  {
   "cell_type": "code",
   "execution_count": 104,
   "metadata": {},
   "outputs": [
    {
     "data": {
      "text/plain": [
       "'ISIC_0033177'"
      ]
     },
     "execution_count": 104,
     "metadata": {},
     "output_type": "execute_result"
    }
   ],
   "source": [
    "directory_images = os.listdir(path_to_images)\n",
    "image_file = directory_images[100]\n",
    "image_file[:-4]"
   ]
  },
  {
   "cell_type": "code",
   "execution_count": 105,
   "metadata": {},
   "outputs": [
    {
     "data": {
      "text/html": [
       "<div>\n",
       "<style scoped>\n",
       "    .dataframe tbody tr th:only-of-type {\n",
       "        vertical-align: middle;\n",
       "    }\n",
       "\n",
       "    .dataframe tbody tr th {\n",
       "        vertical-align: top;\n",
       "    }\n",
       "\n",
       "    .dataframe thead th {\n",
       "        text-align: right;\n",
       "    }\n",
       "</style>\n",
       "<table border=\"1\" class=\"dataframe\">\n",
       "  <thead>\n",
       "    <tr style=\"text-align: right;\">\n",
       "      <th></th>\n",
       "      <th>MEL</th>\n",
       "      <th>NV</th>\n",
       "      <th>BCC</th>\n",
       "      <th>AKIEC</th>\n",
       "      <th>BKL</th>\n",
       "      <th>DF</th>\n",
       "      <th>VASC</th>\n",
       "    </tr>\n",
       "    <tr>\n",
       "      <th>image</th>\n",
       "      <th></th>\n",
       "      <th></th>\n",
       "      <th></th>\n",
       "      <th></th>\n",
       "      <th></th>\n",
       "      <th></th>\n",
       "      <th></th>\n",
       "    </tr>\n",
       "  </thead>\n",
       "  <tbody>\n",
       "    <tr>\n",
       "      <th>ISIC_0024306</th>\n",
       "      <td>0.0</td>\n",
       "      <td>1.0</td>\n",
       "      <td>0.0</td>\n",
       "      <td>0.0</td>\n",
       "      <td>0.0</td>\n",
       "      <td>0.0</td>\n",
       "      <td>0.0</td>\n",
       "    </tr>\n",
       "  </tbody>\n",
       "</table>\n",
       "</div>"
      ],
      "text/plain": [
       "              MEL   NV  BCC  AKIEC  BKL   DF  VASC\n",
       "image                                             \n",
       "ISIC_0024306  0.0  1.0  0.0    0.0  0.0  0.0   0.0"
      ]
     },
     "execution_count": 105,
     "metadata": {},
     "output_type": "execute_result"
    }
   ],
   "source": [
    "df = pd.read_csv(\"../dataset/ISIC2018_Training_GroundTruth/ISIC2018_Task3_Training_GroundTruth.csv\", index_col=\"image\")\n",
    "df[:1]"
   ]
  },
  {
   "cell_type": "code",
   "execution_count": 106,
   "metadata": {},
   "outputs": [],
   "source": [
    "mel = df.index[df['MEL'] == 1.0].tolist()\n",
    "nv = df.index[df['NV'] == 1.0].tolist()\n",
    "bcc = df.index[df['BCC'] == 1.0].tolist()\n",
    "akiec = df.index[df['AKIEC'] == 1.0].tolist()\n",
    "bkl = df.index[df['BKL'] == 1.0].tolist()\n",
    "dff = df.index[df['DF'] == 1.0].tolist()\n",
    "vasc = df.index[df['VASC'] == 1.0].tolist()"
   ]
  },
  {
   "cell_type": "code",
   "execution_count": 124,
   "metadata": {},
   "outputs": [],
   "source": [
    "for filename in mel:\n",
    "    filename = filename + '.jpg'\n",
    "    img = cv2.imread(path_to_images + filename)\n",
    "    img = cv2.cvtColor(img, cv2.COLOR_BGR2RGB)\n",
    "    cv2.imwrite(path_to_balanced_images + path_to_mel + filename, img, [int(cv2.IMWRITE_JPEG_QUALITY), 100])"
   ]
  },
  {
   "cell_type": "code",
   "execution_count": 123,
   "metadata": {},
   "outputs": [],
   "source": [
    "for filename in nv:\n",
    "    filename = filename + '.jpg'\n",
    "    img = cv2.imread(path_to_images + filename)\n",
    "    img = cv2.cvtColor(img, cv2.COLOR_BGR2RGB)\n",
    "    cv2.imwrite(path_to_balanced_images + path_to_nv + filename, img, [int(cv2.IMWRITE_JPEG_QUALITY), 100])"
   ]
  },
  {
   "cell_type": "code",
   "execution_count": 122,
   "metadata": {},
   "outputs": [],
   "source": [
    "for filename in bcc:\n",
    "    filename = filename + '.jpg'\n",
    "    img = cv2.imread(path_to_images + filename)\n",
    "    img = cv2.cvtColor(img, cv2.COLOR_BGR2RGB)\n",
    "    cv2.imwrite(path_to_balanced_images + path_to_bcc + filename, img, [int(cv2.IMWRITE_JPEG_QUALITY), 100])"
   ]
  },
  {
   "cell_type": "code",
   "execution_count": 121,
   "metadata": {},
   "outputs": [],
   "source": [
    "for filename in akiec:\n",
    "    filename = filename + '.jpg'\n",
    "    img = cv2.imread(path_to_images + filename)\n",
    "    img = cv2.cvtColor(img, cv2.COLOR_BGR2RGB)\n",
    "    cv2.imwrite(path_to_balanced_images + path_to_akiec + filename, img, [int(cv2.IMWRITE_JPEG_QUALITY), 100])"
   ]
  },
  {
   "cell_type": "code",
   "execution_count": 120,
   "metadata": {},
   "outputs": [],
   "source": [
    "for filename in bkl:\n",
    "    filename = filename + '.jpg'\n",
    "    img = cv2.imread(path_to_images + filename)\n",
    "    img = cv2.cvtColor(img, cv2.COLOR_BGR2RGB)\n",
    "    cv2.imwrite(path_to_balanced_images + path_to_bkl + filename, img, [int(cv2.IMWRITE_JPEG_QUALITY), 100])"
   ]
  },
  {
   "cell_type": "code",
   "execution_count": 119,
   "metadata": {},
   "outputs": [],
   "source": [
    "for filename in dff:\n",
    "    filename = filename + '.jpg'\n",
    "    img = cv2.imread(path_to_images + filename)\n",
    "    img = cv2.cvtColor(img, cv2.COLOR_BGR2RGB)\n",
    "    cv2.imwrite(path_to_balanced_images + path_to_df + filename, img, [int(cv2.IMWRITE_JPEG_QUALITY), 100])"
   ]
  },
  {
   "cell_type": "code",
   "execution_count": 118,
   "metadata": {},
   "outputs": [],
   "source": [
    "for filename in vasc:\n",
    "    filename = filename + '.jpg'\n",
    "    img = cv2.imread(path_to_images + filename)\n",
    "    img = cv2.cvtColor(img, cv2.COLOR_BGR2RGB)\n",
    "    cv2.imwrite(path_to_balanced_images + path_to_vasc + filename, img, [int(cv2.IMWRITE_JPEG_QUALITY), 100])"
   ]
  },
  {
   "cell_type": "code",
   "execution_count": 125,
   "metadata": {},
   "outputs": [
    {
     "name": "stdout",
     "output_type": "stream",
     "text": [
      "Mel 1113\n",
      "NV 6705\n",
      "BCC 514\n",
      "AKIEC 327\n",
      "BKL 1099\n",
      "DF 115\n",
      "VASC 142\n"
     ]
    }
   ],
   "source": [
    "print(\"Mel\", len(os.listdir(path_to_balanced_images + path_to_mel)))\n",
    "print(\"NV\", len(os.listdir(path_to_balanced_images + path_to_nv)))\n",
    "print(\"BCC\", len(os.listdir(path_to_balanced_images + path_to_bcc)))\n",
    "print(\"AKIEC\", len(os.listdir(path_to_balanced_images + path_to_akiec)))\n",
    "print(\"BKL\", len(os.listdir(path_to_balanced_images + path_to_bkl)))\n",
    "print(\"DF\", len(os.listdir(path_to_balanced_images + path_to_df)))\n",
    "print(\"VASC\", len(os.listdir(path_to_balanced_images + path_to_vasc)))"
   ]
  },
  {
   "cell_type": "code",
   "execution_count": null,
   "metadata": {},
   "outputs": [],
   "source": []
  }
 ],
 "metadata": {
  "kernelspec": {
   "display_name": "Python 3",
   "language": "python",
   "name": "python3"
  },
  "language_info": {
   "codemirror_mode": {
    "name": "ipython",
    "version": 3
   },
   "file_extension": ".py",
   "mimetype": "text/x-python",
   "name": "python",
   "nbconvert_exporter": "python",
   "pygments_lexer": "ipython3",
   "version": "3.6.6"
  }
 },
 "nbformat": 4,
 "nbformat_minor": 2
}
