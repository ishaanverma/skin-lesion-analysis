{
 "cells": [
  {
   "cell_type": "code",
   "execution_count": 9,
   "metadata": {},
   "outputs": [],
   "source": [
    "from keras.preprocessing.image import ImageDataGenerator\n",
    "from keras.models import Sequential\n",
    "import numpy as np\n",
    "import matplotlib.pyplot as plt"
   ]
  },
  {
   "cell_type": "code",
   "execution_count": 10,
   "metadata": {},
   "outputs": [],
   "source": [
    "drive_base_path = \"../\"\n",
    "path_to_images = drive_base_path + \"dataset/ISIC2018_Balanced_Training_Input/\""
   ]
  },
  {
   "cell_type": "code",
   "execution_count": 30,
   "metadata": {},
   "outputs": [],
   "source": [
    "train_datagen = ImageDataGenerator(\n",
    "    shear_range=0.2,\n",
    "    zoom_range=0.2,\n",
    "    horizontal_flip=True)"
   ]
  },
  {
   "cell_type": "code",
   "execution_count": 31,
   "metadata": {},
   "outputs": [
    {
     "name": "stdout",
     "output_type": "stream",
     "text": [
      "Found 16639 images belonging to 7 classes.\n"
     ]
    }
   ],
   "source": [
    "classes = ['mel', 'nv', 'bcc', 'akiec', 'bkl', 'df', 'vasc']\n",
    "train_generator = train_datagen.flow_from_directory(\n",
    "                    directory=path_to_images,\n",
    "                    target_size=(224, 224),\n",
    "                    batch_size=32,\n",
    "                    classes=classes,\n",
    "                    shuffle=True)"
   ]
  },
  {
   "cell_type": "code",
   "execution_count": 32,
   "metadata": {},
   "outputs": [
    {
     "data": {
      "text/plain": [
       "{'mel': 0, 'nv': 1, 'bcc': 2, 'akiec': 3, 'bkl': 4, 'df': 5, 'vasc': 6}"
      ]
     },
     "execution_count": 32,
     "metadata": {},
     "output_type": "execute_result"
    }
   ],
   "source": [
    "train_generator.class_indices"
   ]
  },
  {
   "cell_type": "code",
   "execution_count": 33,
   "metadata": {},
   "outputs": [],
   "source": [
    "x, y = next(train_generator)"
   ]
  },
  {
   "cell_type": "code",
   "execution_count": 34,
   "metadata": {},
   "outputs": [
    {
     "name": "stdout",
     "output_type": "stream",
     "text": [
      "(256, 256, 3)\n"
     ]
    }
   ],
   "source": [
    "print(x[0].shape)"
   ]
  },
  {
   "cell_type": "code",
   "execution_count": 36,
   "metadata": {},
   "outputs": [
    {
     "name": "stdout",
     "output_type": "stream",
     "text": [
      "[[[162.0451  165.03008 241.98497]\n",
      "  [164.6653  166.77687 241.11157]\n",
      "  [158.90535 164.71451 237.19084]\n",
      "  ...\n",
      "  [159.01503 156.96992 240.96992]\n",
      "  [154.70818 155.28326 237.56654]\n",
      "  [157.65881 153.53647 238.46353]]\n",
      "\n",
      " [[162.0451  165.03008 241.98497]\n",
      "  [164.6653  166.77687 241.11157]\n",
      "  [158.90535 164.71451 237.19084]\n",
      "  ...\n",
      "  [159.01503 156.96992 240.96992]\n",
      "  [154.70818 155.28326 237.56654]\n",
      "  [157.65881 153.53647 238.46353]]\n",
      "\n",
      " [[162.0451  165.03008 241.98497]\n",
      "  [164.6653  166.77687 241.11157]\n",
      "  [158.90535 164.71451 237.19084]\n",
      "  ...\n",
      "  [159.01503 156.96992 240.96992]\n",
      "  [154.70818 155.28326 237.56654]\n",
      "  [157.65881 153.53647 238.46353]]\n",
      "\n",
      " ...\n",
      "\n",
      " [[122.07517 149.07516 216.07516]\n",
      "  [126.44217 153.44217 220.44217]\n",
      "  [128.52367 152.47633 219.47633]\n",
      "  ...\n",
      "  [135.96992 149.93987 222.9549 ]\n",
      "  [141.15019 155.15019 226.43346]\n",
      "  [140.53647 153.8047  224.07295]]\n",
      "\n",
      " [[122.07517 149.07516 216.07516]\n",
      "  [126.44217 153.44217 220.44217]\n",
      "  [128.52367 152.47633 219.47633]\n",
      "  ...\n",
      "  [135.96992 149.93987 222.9549 ]\n",
      "  [141.15019 155.15019 226.43346]\n",
      "  [140.53647 153.8047  224.07295]]\n",
      "\n",
      " [[122.07517 149.07516 216.07516]\n",
      "  [126.44217 153.44217 220.44217]\n",
      "  [128.52367 152.47633 219.47633]\n",
      "  ...\n",
      "  [135.96992 149.93987 222.9549 ]\n",
      "  [141.15019 155.15019 226.43346]\n",
      "  [140.53647 153.8047  224.07295]]]\n"
     ]
    }
   ],
   "source": [
    "print(x[0])"
   ]
  },
  {
   "cell_type": "code",
   "execution_count": 19,
   "metadata": {},
   "outputs": [
    {
     "name": "stdout",
     "output_type": "stream",
     "text": [
      "[1. 0. 0. 0. 0. 0. 0.]\n"
     ]
    }
   ],
   "source": [
    "print(y[0])"
   ]
  },
  {
   "cell_type": "code",
   "execution_count": null,
   "metadata": {},
   "outputs": [],
   "source": []
  }
 ],
 "metadata": {
  "kernelspec": {
   "display_name": "Python 3",
   "language": "python",
   "name": "python3"
  },
  "language_info": {
   "codemirror_mode": {
    "name": "ipython",
    "version": 3
   },
   "file_extension": ".py",
   "mimetype": "text/x-python",
   "name": "python",
   "nbconvert_exporter": "python",
   "pygments_lexer": "ipython3",
   "version": "3.6.7"
  }
 },
 "nbformat": 4,
 "nbformat_minor": 2
}
