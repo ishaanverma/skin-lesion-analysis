{
 "cells": [
  {
   "cell_type": "markdown",
   "metadata": {},
   "source": [
    "# MINOR PROJECT EXAMPLES"
   ]
  },
  {
   "cell_type": "code",
   "execution_count": 1,
   "metadata": {},
   "outputs": [
    {
     "name": "stderr",
     "output_type": "stream",
     "text": [
      "Using TensorFlow backend.\n"
     ]
    }
   ],
   "source": [
    "import os\n",
    "import sys\n",
    "import time\n",
    "import pickle\n",
    "import numpy as np\n",
    "import matplotlib.pyplot as plt\n",
    "import cv2\n",
    "import time\n",
    "from sklearn.model_selection import train_test_split\n",
    "from sklearn import preprocessing\n",
    "from sklearn.utils import class_weight\n",
    "from tqdm import tqdm_notebook as tqdm\n",
    "from keras.preprocessing.image import ImageDataGenerator\n",
    "from keras.models import Sequential\n",
    "from keras.layers import Dense, Conv2D, Flatten, MaxPooling2D, Dropout, Activation, Input, GlobalAveragePooling2D\n",
    "from keras.models import Model, load_model\n",
    "from keras.optimizers import SGD, Adam, RMSprop\n",
    "from keras.applications import ResNet50\n",
    "from keras.applications.vgg16 import VGG16\n",
    "from keras.callbacks import TensorBoard, ModelCheckpoint"
   ]
  },
  {
   "cell_type": "code",
   "execution_count": null,
   "metadata": {},
   "outputs": [],
   "source": [
    "def ResNet50_Model():\n",
    "    base_model = ResNet50(include_top=False, weights='imagenet', input_shape=(224, 224, 3))\n",
    "\n",
    "    x = base_model.output\n",
    "    x = GlobalAveragePooling2D()(x)\n",
    "    # x = Dense(1000,\n",
    "    #           kernel_regularizer=regularizers.l2(5e-4),\n",
    "    #           activation='relu')(x)\n",
    "    # x = Dropout(0.5)(x)\n",
    "    predictions = Dense(7, activation='softmax')(x)\n",
    "\n",
    "    model = Model(inputs=base_model.input, outputs=predictions)\n",
    "\n",
    "    # model.compile(loss=\"categorical_crossentropy\", \n",
    "    #               optimizer=Adam(lr=1e-3), \n",
    "    #               metrics=[\"acc\"])\n",
    "    print(model.summary())"
   ]
  },
  {
   "cell_type": "code",
   "execution_count": null,
   "metadata": {},
   "outputs": [],
   "source": [
    "def VGG16_Model():\n",
    "    base_model = VGG16(include_top=False, weights='imagenet', input_shape=(224, 224, 3))\n",
    "\n",
    "    x = base_model.output\n",
    "    x = Flatten()(x)\n",
    "    x = Dense(4096, activation='relu')(x)\n",
    "    x = Dropout(0.5)(x)\n",
    "    x = Dense(4096, activation='relu')(x)\n",
    "    x = Dropout(0.5)(x)\n",
    "    predictions = Dense(7, activation='softmax')(x)\n",
    "\n",
    "    model = Model(inputs=base_model.input, outputs=predictions)\n",
    "\n",
    "#     for layer in base_model.layers:\n",
    "#         layer.trainable = False\n",
    "\n",
    "#     model.compile(loss=\"categorical_crossentropy\", \n",
    "#                   optimizer=RMSprop(lr=1e-5), \n",
    "#                   metrics=[\"acc\"])\n",
    "    \n",
    "    print(model.summary())\n",
    "    return model"
   ]
  },
  {
   "cell_type": "code",
   "execution_count": null,
   "metadata": {},
   "outputs": [],
   "source": [
    "vgg16_model = VGG16_Model()\n",
    "resnet50_model = ResNet50_Model()"
   ]
  },
  {
   "cell_type": "code",
   "execution_count": null,
   "metadata": {},
   "outputs": [],
   "source": [
    "VGG16_WEIGHT_FILE = drive_base_path + \"models/VGG16_AUG_ISIC_cnn.h5\"\n",
    "RESNET50_WEIGHT_FILE = drive_base_path + \"models/checkpoint/ResNet50_REST.14-1.38.hdf5\"\n",
    "\n",
    "vgg16_model.load_weights(VGG16_WEIGHT_FILE)\n",
    "resnet50_model.load_weights(RESNET50_WEIGHT_FILE)"
   ]
  },
  {
   "cell_type": "code",
   "execution_count": null,
   "metadata": {},
   "outputs": [],
   "source": [
    "def load_sample(path_to_images, number_of_images):\n",
    "    list_of_images = os.listdir(path_to_images)\n",
    "    x = []\n",
    "    for i, filename in enumerate(list_of_images):\n",
    "        image = cv2.imread(path_to_images + filename)\n",
    "#         image = cv2.cvtColor(image, cv2.COLOR_BGR2RGB)\n",
    "        x.append(image)\n",
    "        \n",
    "        if i >= number_of_images:\n",
    "            break\n",
    "    \n",
    "    x = np.array(x)\n",
    "    return x       "
   ]
  },
  {
   "cell_type": "code",
   "execution_count": null,
   "metadata": {},
   "outputs": [],
   "source": [
    "datagen = ImageDataGenerator(\n",
    "#     featurewise_center=True,\n",
    "#     featurewise_std_normalization=True,\n",
    "    rotation_range=30,\n",
    "    zoom_range=0.2,\n",
    "    fill_mode='constant',\n",
    "    cval=0,\n",
    "    validation_split=0.1,\n",
    "    data_format=\"channels_last\")"
   ]
  },
  {
   "cell_type": "code",
   "execution_count": null,
   "metadata": {},
   "outputs": [],
   "source": [
    "datagen.fit(x)"
   ]
  },
  {
   "cell_type": "code",
   "execution_count": null,
   "metadata": {},
   "outputs": [],
   "source": [
    "classes = ['mel', 'nv', 'bcc', 'akiec', 'bkl', 'df', 'vasc']\n",
    "batch_size = 16\n",
    "train_generator = datagen.flow_from_directory(\n",
    "                    directory=path_to_balanced_images,\n",
    "                    target_size=(224, 224),\n",
    "                    batch_size=batch_size,\n",
    "                    classes=classes,\n",
    "                    shuffle=True,\n",
    "                    subset='training')\n",
    "\n",
    "validation_generator = datagen.flow_from_directory(\n",
    "                    directory=path_to_balanced_images,\n",
    "                    target_size=(224, 224),\n",
    "                    batch_size=batch_size,\n",
    "                    classes=classes,\n",
    "                    shuffle=True,\n",
    "                    subset='validation')"
   ]
  },
  {
   "cell_type": "code",
   "execution_count": null,
   "metadata": {},
   "outputs": [],
   "source": [
    "Y_pred = model.predict_generator(validation_generator, steps=valid_samples / 1)\n",
    "y_pred = np.argmax(Y_pred, axis=1)\n",
    "y_true = validation_generator.classes"
   ]
  },
  {
   "cell_type": "code",
   "execution_count": null,
   "metadata": {},
   "outputs": [],
   "source": []
  }
 ],
 "metadata": {
  "kernelspec": {
   "display_name": "Python 3",
   "language": "python",
   "name": "python3"
  },
  "language_info": {
   "codemirror_mode": {
    "name": "ipython",
    "version": 3
   },
   "file_extension": ".py",
   "mimetype": "text/x-python",
   "name": "python",
   "nbconvert_exporter": "python",
   "pygments_lexer": "ipython3",
   "version": "3.6.8"
  }
 },
 "nbformat": 4,
 "nbformat_minor": 2
}
